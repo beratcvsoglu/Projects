import pandas as pd
import scipy.stats as stats

# Örnek veri seti
data = pd.DataFrame({
    'Grup': ['A', 'A', 'A', 'B', 'B', 'B'],
    'Değer': [23, 25, 22, 30, 29, 33]
})

# T-Testi
group_a = data[data['Grup'] == 'A']['Değer']
group_b = data[data['Grup'] == 'B']['Değer']
t_stat, p_value = stats.ttest_ind(group_a, group_b)

print(f"T-İstatistiği: {t_stat}, P-Değeri: {p_value}")
