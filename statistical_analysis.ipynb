{
 "cells": [
  {
   "cell_type": "code",
   "execution_count": null,
   "id": "c497e0d3",
   "metadata": {},
   "outputs": [],
   "source": [
    "# Veri Temizleme Örneği\n",
    "import pandas as pd\n",
    "\n",
    "# Örnek veri seti\n",
    "data = pd.DataFrame({\n",
    "    'Ad': ['Ahmet', 'Mehmet', 'Ayşe', None, 'Fatma'],\n",
    "    'Yaş': [25, None, 30, 22, 35],\n",
    "    'Gelir': [5000, 6000, None, 4000, 8000]\n",
    "})\n",
    "\n",
    "# Eksik değerlerin doldurulması\n",
    "data['Ad'].fillna('Bilinmiyor', inplace=True)\n",
    "data['Yaş'].fillna(data['Yaş'].mean(), inplace=True)\n",
    "data['Gelir'].fillna(data['Gelir'].median(), inplace=True)\n",
    "\n",
    "print(data)"
   ]
  }
 ],
 "metadata": {
  "kernelspec": {
   "display_name": "Python 3",
   "language": "python",
   "name": "python3"
  },
  "language_info": {
   "codemirror_mode": {
    "name": "ipython",
    "version": 3
   },
   "file_extension": ".py",
   "mimetype": "text/x-python",
   "name": "python",
   "nbconvert_exporter": "python",
   "pygments_lexer": "ipython3",
   "version": "3.8.8"
  }
 },
 "nbformat": 4,
 "nbformat_minor": 5
}
