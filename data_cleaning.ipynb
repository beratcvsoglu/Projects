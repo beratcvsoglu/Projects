import pandas as pd

# Örnek veri seti
data = pd.DataFrame({
    'Ad': ['Ahmet', 'Mehmet', 'Ayşe', None, 'Fatma'],
    'Yaş': [25, None, 30, 22, 35],
    'Gelir': [5000, 6000, None, 4000, 8000]
})

# Eksik değerlerin doldurulması
data['Ad'].fillna('Bilinmiyor', inplace=True)
data['Yaş'].fillna(data['Yaş'].mean(), inplace=True)
data['Gelir'].fillna(data['Gelir'].median(), inplace=True)

print(data)
