{
 "cells": [
  {
   "cell_type": "code",
   "execution_count": null,
   "id": "e2a9cb04",
   "metadata": {},
   "outputs": [],
   "source": [
    "# Veri Görselleştirme Örneği\n",
    "import matplotlib.pyplot as plt\n",
    "import seaborn as sns\n",
    "import pandas as pd\n",
    "\n",
    "# Örnek veri seti\n",
    "data = pd.DataFrame({\n",
    "    'Kategori': ['A', 'B', 'C', 'D'],\n",
    "    'Değer': [23, 17, 35, 29]\n",
    "})\n",
    "\n",
    "# Bar grafiği\n",
    "plt.figure(figsize=(10, 6))\n",
    "sns.barplot(x='Kategori', y='Değer', data=data)\n",
    "plt.title('Kategoriye Göre Değerler')\n",
    "plt.xlabel('Kategori')\n",
    "plt.ylabel('Değer')\n",
    "plt.show()"
   ]
  }
 ],
 "metadata": {
  "kernelspec": {
   "display_name": "Python 3",
   "language": "python",
   "name": "python3"
  },
  "language_info": {
   "codemirror_mode": {
    "name": "ipython",
    "version": 3
   },
   "file_extension": ".py",
   "mimetype": "text/x-python",
   "name": "python",
   "nbconvert_exporter": "python",
   "pygments_lexer": "ipython3",
   "version": "3.8.8"
  }
 },
 "nbformat": 4,
 "nbformat_minor": 5
}
