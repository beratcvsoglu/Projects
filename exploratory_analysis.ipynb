{
 "cells": [
  {
   "cell_type": "code",
   "execution_count": null,
   "id": "6a58b86a",
   "metadata": {},
   "outputs": [],
   "source": [
    "# Keşifsel Veri Analizi Örneği\n",
    "import pandas as pd\n",
    "import seaborn as sns\n",
    "import matplotlib.pyplot as plt\n",
    "\n",
    "# Örnek veri seti\n",
    "data = pd.read_csv('your_dataset.csv')\n",
    "\n",
    "# Veri setine genel bakış\n",
    "print(data.head())\n",
    "print(data.info())\n",
    "print(data.describe())\n",
    "\
