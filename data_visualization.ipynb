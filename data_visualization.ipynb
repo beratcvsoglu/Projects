{
 "cells": [
  {
   "cell_type": "code",
   "execution_count": null,
   "id": "e707c004",
   "metadata": {},
   "outputs": [],
   "source": [
    "# İstatistiksel Analiz Örneği\n",
    "import pandas as pd\n",
    "import scipy.stats as stats\n",
    "\n",
    "# Örnek veri seti\n",
    "data = pd.DataFrame({\n",
    "    'Grup': ['A', 'A', 'A', 'B', 'B', 'B'],\n",
    "    'Değer': [23, 25, 22, 30, 29, 33]\n",
    "})\n",
    "\n",
    "# T-Testi\n",
    "group_a = data[data['Grup'] == 'A']['Değer']\n",
    "group_b = data[data['Grup'] == 'B']['Değer']\n",
    "t_stat, p_value = stats.ttest_ind(group_a, group_b)\n",
    "\n",
    "print(f\"T-İstatistiği: {t_stat}, P-Değeri: {p_value}\")"
   ]
  }
 ],
 "metadata": {
  "kernelspec": {
   "display_name": "Python 3",
   "language": "python",
   "name": "python3"
  },
  "language_info": {
   "codemirror_mode": {
    "name": "ipython",
    "version": 3
   },
   "file_extension": ".py",
   "mimetype": "text/x-python",
   "name": "python",
   "nbconvert_exporter": "python",
   "pygments_lexer": "ipython3",
   "version": "3.8.8"
  }
 },
 "nbformat": 4,
 "nbformat_minor": 5
}
