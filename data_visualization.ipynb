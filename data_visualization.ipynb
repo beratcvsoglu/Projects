# Veri Görselleştirme Örneği
import matplotlib.pyplot as plt
import seaborn as sns
import pandas as pd

# Örnek veri seti
data = pd.DataFrame({
    'Kategori': ['A', 'B', 'C', 'D'],
    'Değer': [23, 17, 35, 29]
})

# Bar grafiği
plt.figure(figsize=(10, 6))
sns.barplot(x='Kategori', y='Değer', data=data)
plt.title('Kategoriye Göre Değerler')
plt.xlabel('Kategori')
plt.ylabel('Değer')
plt.show()
